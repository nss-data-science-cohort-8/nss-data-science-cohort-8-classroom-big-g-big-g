{
 "cells": [
  {
   "cell_type": "code",
   "execution_count": 1,
   "id": "edb0885d",
   "metadata": {},
   "outputs": [
    {
     "name": "stdout",
     "output_type": "stream",
     "text": [
      "c:\\Users\\lexil\\Documents\\NSS_Projects\\big-g-haulin-oats\\data_processing\n"
     ]
    }
   ],
   "source": [
    "# import statements\n",
    "import os\n",
    "os.chdir('..')\n",
    "print(os.getcwd())\n",
    "import sys\n",
    "import pandas as pd\n",
    "import ipynbname\n",
    "from data_preprocessing import *"
   ]
  },
  {
   "cell_type": "code",
   "execution_count": 2,
   "id": "25fc40ec",
   "metadata": {},
   "outputs": [],
   "source": [
    "# arguments\n",
    "faults_filepath = \"../data/J1939Faults.csv\"\n",
    "diagnostics_filepath = \"../data/VehicleDiagnosticOnboardData.csv\""
   ]
  },
  {
   "cell_type": "code",
   "execution_count": 3,
   "id": "c0a12cc5",
   "metadata": {},
   "outputs": [
    {
     "name": "stdout",
     "output_type": "stream",
     "text": [
      "Now removing service locations...\n"
     ]
    },
    {
     "name": "stderr",
     "output_type": "stream",
     "text": [
      "c:\\Users\\lexil\\Documents\\NSS_Projects\\big-g-haulin-oats\\data_processing\\notebooks_for_preprocessing\\data_preprocessing.py:9: DtypeWarning: Columns (15) have mixed types. Specify dtype option on import or set low_memory=False.\n",
      "  faults = pd.read_csv(faults_filepath)\n"
     ]
    },
    {
     "name": "stdout",
     "output_type": "stream",
     "text": [
      "Train set size: (940262, 47)\n",
      "Now creating target columns...\n"
     ]
    },
    {
     "name": "stderr",
     "output_type": "stream",
     "text": [
      "c:\\Users\\lexil\\Documents\\NSS_Projects\\big-g-haulin-oats\\data_processing\\notebooks_for_preprocessing\\data_preprocessing.py:65: SettingWithCopyWarning: \n",
      "A value is trying to be set on a copy of a slice from a DataFrame.\n",
      "Try using .loc[row_indexer,col_indexer] = value instead\n",
      "\n",
      "See the caveats in the documentation: https://pandas.pydata.org/pandas-docs/stable/user_guide/indexing.html#returning-a-view-versus-a-copy\n",
      "  df['FullDerate'] = (df['spn'] == 5246).astype('int')\n",
      "c:\\Users\\lexil\\Documents\\NSS_Projects\\big-g-haulin-oats\\data_processing\\notebooks_for_preprocessing\\data_preprocessing.py:65: SettingWithCopyWarning: \n",
      "A value is trying to be set on a copy of a slice from a DataFrame.\n",
      "Try using .loc[row_indexer,col_indexer] = value instead\n",
      "\n",
      "See the caveats in the documentation: https://pandas.pydata.org/pandas-docs/stable/user_guide/indexing.html#returning-a-view-versus-a-copy\n",
      "  df['FullDerate'] = (df['spn'] == 5246).astype('int')\n"
     ]
    },
    {
     "name": "stdout",
     "output_type": "stream",
     "text": [
      "Now imputing missing values with ffill...\n"
     ]
    }
   ],
   "source": [
    "feature_cols = [\n",
    "    \"CruiseControlSetSpeed\",\n",
    "    \"DistanceLtd\",\n",
    "    \"EngineCoolantTemperature\",\n",
    "    \"EngineLoad\",\n",
    "    \"EngineOilPressure\",\n",
    "    \"EngineOilTemperature\",\n",
    "    \"EngineRpm\",\n",
    "    \"EngineTimeLtd\",\n",
    "    \"FuelLtd\",\n",
    "    \"FuelTemperature\",\n",
    "    \"IntakeManifoldTemperature\",\n",
    "    \"Throttle\",\n",
    "    \"TurboBoostPressure\"\n",
    "    ]\n",
    "target_col = 'DerateInNextTwoHours'\n",
    "file_name = 'preprocessed_data/mlflow_test_05_01' # Don't add .csv here, it will be added in the function\n",
    "\n",
    "# Try SMOTE? Resample the data to balance the classes?\n",
    "\n",
    "train_df, test_df = xy_train_test_split(\"../data/J1939Faults.csv\", \"../data/VehicleDiagnosticOnboardData.csv\", feature_cols, target_col)\n"
   ]
  },
  {
   "cell_type": "code",
   "execution_count": 4,
   "id": "7a2b9195",
   "metadata": {},
   "outputs": [
    {
     "name": "stdout",
     "output_type": "stream",
     "text": [
      "Train and test dataframes saved to preprocessed_data/mlflow_test_05_01_train.csv and preprocessed_data/mlflow_test_05_01_test.csv.\n"
     ]
    }
   ],
   "source": [
    "save_to_csv(train_df, test_df, file_name)"
   ]
  }
 ],
 "metadata": {
  "kernelspec": {
   "display_name": "base",
   "language": "python",
   "name": "python3"
  },
  "language_info": {
   "codemirror_mode": {
    "name": "ipython",
    "version": 3
   },
   "file_extension": ".py",
   "mimetype": "text/x-python",
   "name": "python",
   "nbconvert_exporter": "python",
   "pygments_lexer": "ipython3",
   "version": "3.12.4"
  }
 },
 "nbformat": 4,
 "nbformat_minor": 5
}
